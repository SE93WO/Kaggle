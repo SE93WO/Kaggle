{
 "cells": [
  {
   "cell_type": "code",
   "execution_count": 2,
   "metadata": {},
   "outputs": [],
   "source": [
    "import pandas as pd \n",
    "from pandas.io.json import json_normalize\n",
    "from ast import literal_eval\n",
    "#1708345 1708337"
   ]
  },
  {
   "cell_type": "code",
   "execution_count": 15,
   "metadata": {},
   "outputs": [
    {
     "name": "stdout",
     "output_type": "stream",
     "text": [
      "hits-00100.csv written (10100 cumulative rows)\n"
     ]
    }
   ],
   "source": [
    "MAXROWS = 1e4 # per CSV\n",
    "\n",
    "i = rows = 100\n",
    "for file in ['D:\\GACRP\\input/temp.csv',]:\n",
    "    reader = pd.read_csv(file, usecols=['hits', 'fullVisitorId'], dtype={'fullVisitorId': 'str'}, chunksize = MAXROWS, skiprows=0)\n",
    "    for chunk in reader:\n",
    "        chunk.columns = ['fullVisitorId','hits']\n",
    "        chunk['hits'][chunk['hits'] == \"[]\"] = \"[{}]\"\n",
    "        chunk['hits'] = chunk['hits'].apply(literal_eval).str[0]\n",
    "        column_as_df = json_normalize(chunk['hits'])\n",
    "        column_as_df.columns = [f\"hits.{subcolumn}\" for subcolumn in column_as_df.columns]\n",
    "        chunk = chunk.drop('hits', axis=1).merge(column_as_df, right_index=True, left_index=True)\n",
    "        \n",
    "        if 'product' in chunk.columns:\n",
    "            #print(chunk['product'][0])\n",
    "            chunk['v2ProductName'] = chunk['product'].apply(lambda x: [p['v2ProductName'] for p in x] if type(x) == list else [])\n",
    "            chunk['v2ProductCategory'] = chunk['product'].apply(lambda x: [p['v2ProductCategory'] for p in x] if type(x) == list else [])\n",
    "            del chunk['product']\n",
    "        if 'promotion' in chunk.columns:\n",
    "            #print(chunk['promotion'][0])\n",
    "            chunk['promoId']  = chunk['promotion'].apply(lambda x: [p['promoId'] for p in x] if type(x) == list else [])\n",
    "            chunk['promoName']  = chunk['promotion'].apply(lambda x: [p['promoName'] for p in x] if type(x) == list else [])\n",
    "            del chunk['promotion']\n",
    "\n",
    "        chunk.to_csv(f\"hits-{i:03d}.csv\", index=False)\n",
    "        rows += len(chunk.index)\n",
    "        print(f\"hits-{i:05d}.csv written ({rows} cumulative rows)\")\n",
    "        i += 1\n",
    "\n"
   ]
  },
  {
   "cell_type": "code",
   "execution_count": 4,
   "metadata": {},
   "outputs": [],
   "source": [
    "train = pd.read_csv('D:\\GACRP\\input/train_v2.csv', nrows = 10000)"
   ]
  },
  {
   "cell_type": "code",
   "execution_count": 5,
   "metadata": {},
   "outputs": [],
   "source": [
    "train.to_csv('temp.csv', index=False)"
   ]
  },
  {
   "cell_type": "code",
   "execution_count": null,
   "metadata": {},
   "outputs": [],
   "source": []
  }
 ],
 "metadata": {
  "kernelspec": {
   "display_name": "Python 3",
   "language": "python",
   "name": "python3"
  },
  "language_info": {
   "codemirror_mode": {
    "name": "ipython",
    "version": 3
   },
   "file_extension": ".py",
   "mimetype": "text/x-python",
   "name": "python",
   "nbconvert_exporter": "python",
   "pygments_lexer": "ipython3",
   "version": "3.6.6"
  }
 },
 "nbformat": 4,
 "nbformat_minor": 2
}
